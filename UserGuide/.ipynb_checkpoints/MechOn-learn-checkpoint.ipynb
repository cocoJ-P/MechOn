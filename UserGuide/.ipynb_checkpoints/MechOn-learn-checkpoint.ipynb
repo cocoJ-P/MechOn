{
 "cells": [
  {
   "cell_type": "markdown",
   "id": "d4788a4e-c5cb-4c8b-af38-d915cdc9975c",
   "metadata": {},
   "source": [
    "# 本文档的目的是展示如何加载使用MechOnfluid内容，其中包括加载，推理，可视化展示"
   ]
  },
  {
   "cell_type": "markdown",
   "id": "cf3edbdb-cac9-4dee-aab0-b209bf08373c",
   "metadata": {},
   "source": [
    "## ttl格式转换 \n",
    "我们使用的中间件Owlready2对ttl格式不支持，所以我们要转化为.owl格式，这个是无损转化\n",
    "\n",
    "为什么要使用.ttl格式文件？\n",
    "阅读友好"
   ]
  },
  {
   "cell_type": "code",
   "execution_count": 17,
   "id": "515d5bbf-916f-41b7-9f51-2d6155fd2dab",
   "metadata": {},
   "outputs": [
    {
     "data": {
      "text/plain": [
       "<Graph identifier=Nb022ab13c42b459f828d773e1c03ee45 (<class 'rdflib.graph.Graph'>)>"
      ]
     },
     "execution_count": 17,
     "metadata": {},
     "output_type": "execute_result"
    }
   ],
   "source": [
    "import subprocess, tempfile, os\n",
    "from rdflib import Graph\n",
    "\n",
    "ttl_path = \"demo.ttl\"\n",
    "\n",
    "# 1) Turtle -> RDF/XML 临时文件\n",
    "g = Graph().parse(ttl_path, format=\"turtle\")\n",
    "tmp_xml = tempfile.mkstemp(suffix=\".owl\")[1]\n",
    "g.serialize(tmp_xml, format=\"xml\")\n"
   ]
  },
  {
   "cell_type": "code",
   "execution_count": null,
   "id": "97ee6d4d-68c9-4b56-8d0f-39d20f3cc09d",
   "metadata": {},
   "outputs": [],
   "source": []
  },
  {
   "cell_type": "code",
   "execution_count": 18,
   "id": "5977d65a-d282-4906-8b46-d069ab188bdf",
   "metadata": {},
   "outputs": [
    {
     "name": "stderr",
     "output_type": "stream",
     "text": [
      "C:\\Users\\Jiashun\\AppData\\Local\\Temp\\tmprld6l02t.owl# does not look like a valid URI, trying to serialize this will break.\n"
     ]
    },
    {
     "name": "stdout",
     "output_type": "stream",
     "text": [
      "Loaded ontology: http://anonymous#\n",
      "Classes: ['DivergenceFreeVelocityField', 'Fluid', 'VelocityField', 'IncompressibleFluid']\n",
      "Individuals: ['fluid1', 'vfield1']\n"
     ]
    }
   ],
   "source": [
    "# --------------------------\n",
    "# Step 2 – Owlready2 加载本体\n",
    "# --------------------------\n",
    "from owlready2 import *\n",
    "\n",
    "# ➜ 如需指定 Java，可提前：set_javapath(r\"C:\\Path\\to\\java.exe\")\n",
    "onto = get_ontology(tmp_xml).load()\n",
    "print(f\"Loaded ontology: {onto.base_iri}\")\n",
    "print(\"Classes:\", [c.name for c in onto.classes()])\n",
    "print(\"Individuals:\", [i.name for i in onto.individuals()])"
   ]
  },
  {
   "cell_type": "code",
   "execution_count": null,
   "id": "a5c7b097-bb22-477f-b917-eb2f20d18b88",
   "metadata": {},
   "outputs": [],
   "source": []
  },
  {
   "cell_type": "code",
   "execution_count": 16,
   "id": "2d438f15-f9bf-4b5f-8a90-7adf7297e39c",
   "metadata": {},
   "outputs": [
    {
     "name": "stderr",
     "output_type": "stream",
     "text": [
      "* Owlready2 * Running HermiT...\n",
      "    java -Xmx2000M -cp D:\\Software\\Anaconda3\\envs\\MechOn\\Lib\\site-packages\\owlready2\\hermit;D:\\Software\\Anaconda3\\envs\\MechOn\\Lib\\site-packages\\owlready2\\hermit\\HermiT.jar org.semanticweb.HermiT.cli.CommandLine -c -O -D -I file:///C:/Users/Jiashun/AppData/Local/Temp/tmpgr20hpfh -Y\n"
     ]
    },
    {
     "name": "stdout",
     "output_type": "stream",
     "text": [
      "\n",
      "After reasoning:\n",
      "- DivergenceFreeVelocityField ⟹ subclasses → []\n",
      "- Fluid ⟹ subclasses → ['IncompressibleFluid']\n",
      "- VelocityField ⟹ subclasses → []\n",
      "- IncompressibleFluid ⟹ subclasses → []\n",
      "- fluid1 : ['IncompressibleFluid']\n",
      "- vfield1 : ['DivergenceFreeVelocityField', 'VelocityField']\n",
      "Saved via rdflib → demo_inferred.ttl\n"
     ]
    },
    {
     "name": "stderr",
     "output_type": "stream",
     "text": [
      "* Owlready2 * HermiT took 0.9318084716796875 seconds\n",
      "* Owlready2 * HermiT output:\n",
      "EquivalentClasses( <http://www.semanticweb.org/jiashun/ontologies/2025/6/fluidtest/Fluid> <http://www.semanticweb.org/jiashun/ontologies/2025/6/fluidtest/IncompressibleFluid> )\n",
      "\n",
      "\n",
      "\n",
      "owl:topObjectProperty (known instances:  | possible instances: ) \n",
      "owl:bottomObjectProperty (known instances:  | possible instances: ) \n",
      "<http://www.semanticweb.org/jiashun/ontologies/2025/6/fluidtest/hasVelocityField> (known instances: (<http://www.semanticweb.org/jiashun/ontologies/2025/6/fluidtest/fluid1>, <http://www.semanticweb.org/jiashun/ontologies/2025/6/fluidtest/vfield1>) | possible instances: ) \n",
      "Type( <http://www.semanticweb.org/jiashun/ontologies/2025/6/fluidtest/fluid1> <http://www.semanticweb.org/jiashun/ontologies/2025/6/fluidtest/IncompressibleFluid> )\n",
      "Type( <http://www.semanticweb.org/jiashun/ontologies/2025/6/fluidtest/fluid1> <http://www.semanticweb.org/jiashun/ontologies/2025/6/fluidtest/Fluid> )\n",
      "Type( <http://www.semanticweb.org/jiashun/ontologies/2025/6/fluidtest/vfield1> <http://www.semanticweb.org/jiashun/ontologies/2025/6/fluidtest/VelocityField> )\n",
      "Type( <http://www.semanticweb.org/jiashun/ontologies/2025/6/fluidtest/vfield1> <http://www.semanticweb.org/jiashun/ontologies/2025/6/fluidtest/DivergenceFreeVelocityField> )\n",
      "\n",
      "* Owlready * Equivalenting: C:\\Users\\Jiashun\\AppData\\Local\\Temp\\tmprb9lrgrx.Fluid C:\\Users\\Jiashun\\AppData\\Local\\Temp\\tmprb9lrgrx.IncompressibleFluid\n",
      "* Owlready * Equivalenting: C:\\Users\\Jiashun\\AppData\\Local\\Temp\\tmprb9lrgrx.IncompressibleFluid C:\\Users\\Jiashun\\AppData\\Local\\Temp\\tmprb9lrgrx.Fluid\n",
      "* Owlready * (NB: only changes on entities loaded in Python are shown, other changes are done but not listed)\n"
     ]
    }
   ],
   "source": [
    "# --------------------------\n",
    "# Step 3 – 运行 HermiT 推理\n",
    "# --------------------------\n",
    "with onto:\n",
    "    # infer_property_values=True → 让推理机把新得到的对象属性也写回\n",
    "    sync_reasoner(infer_property_values=True, debug=2)  # debug=2 会打印 HermiT 日志\n",
    "\n",
    "print(\"\\nAfter reasoning:\")\n",
    "for cls in onto.classes():\n",
    "    print(f\"- {cls.name} ⟹ subclasses → {[c.name for c in cls.subclasses()]}\")\n",
    "for ind in onto.individuals():\n",
    "    print(f\"- {ind.name} : { [c.name for c in ind.is_a] }\")\n",
    "\n",
    "# --------------------------\n",
    "# Step 4 – 保存含推理闭包的新本体（可选）\n",
    "# --------------------------\n",
    "# onto.save(file=\"demo_inferred.owl\", format=\"rdfxml\")  # 也可 \"ntriples\"\n",
    "# print(\"\\nInferred ontology saved to demo_inferred.owl\")\n",
    "\n",
    "# ✅ 正确导入方式\n",
    "from rdflib import Graph\n",
    "\n",
    "# 然后你就可以正常使用 rdflib 的 Graph()\n",
    "g = Graph()\n",
    "\n",
    "# 加入 Owlready2 本体中推理后的三元组\n",
    "for triple in onto.world.as_rdflib_graph():\n",
    "    g.add(triple)\n",
    "\n",
    "# 导出为 Turtle\n",
    "g.serialize(\"demo_inferred.ttl\", format=\"turtle\")\n",
    "print(\"Saved via rdflib → demo_inferred.ttl\")"
   ]
  },
  {
   "cell_type": "code",
   "execution_count": null,
   "id": "53932273-8361-4bb0-baa6-db9579626ed2",
   "metadata": {},
   "outputs": [],
   "source": []
  }
 ],
 "metadata": {
  "kernelspec": {
   "display_name": "Python 3 (ipykernel)",
   "language": "python",
   "name": "python3"
  },
  "language_info": {
   "codemirror_mode": {
    "name": "ipython",
    "version": 3
   },
   "file_extension": ".py",
   "mimetype": "text/x-python",
   "name": "python",
   "nbconvert_exporter": "python",
   "pygments_lexer": "ipython3",
   "version": "3.11.13"
  }
 },
 "nbformat": 4,
 "nbformat_minor": 5
}
