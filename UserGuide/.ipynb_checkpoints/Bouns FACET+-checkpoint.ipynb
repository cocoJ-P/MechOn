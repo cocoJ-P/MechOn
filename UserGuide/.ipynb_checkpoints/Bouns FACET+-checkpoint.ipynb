{
 "cells": [
  {
   "cell_type": "markdown",
   "id": "5d9ebc64-f681-4600-b07c-59deeed261f5",
   "metadata": {},
   "source": [
    "不要玩火"
   ]
  },
  {
   "cell_type": "code",
   "execution_count": null,
   "id": "6bd168b4-2744-42c0-a950-e6c23a65879e",
   "metadata": {},
   "outputs": [],
   "source": []
  }
 ],
 "metadata": {
  "kernelspec": {
   "display_name": "Python 3 (ipykernel)",
   "language": "python",
   "name": "python3"
  },
  "language_info": {
   "codemirror_mode": {
    "name": "ipython",
    "version": 3
   },
   "file_extension": ".py",
   "mimetype": "text/x-python",
   "name": "python",
   "nbconvert_exporter": "python",
   "pygments_lexer": "ipython3",
   "version": "3.11.13"
  }
 },
 "nbformat": 4,
 "nbformat_minor": 5
}
